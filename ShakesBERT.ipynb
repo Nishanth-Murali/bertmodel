{
 "cells": [
  {
   "cell_type": "markdown",
   "metadata": {},
   "source": [
    "# ShakesBERT\n",
    "\n",
    "BERT's BertForNextSentencePrediction class gives a score for the likelihood that a sentence (or line) follows a preceding one. We can use this for example to construct a new sonnet from lines of existing Shakespeare sonnets. The new sonnet will have a higher likelihood of making sense than if we merely drew the lines at random. The next sentence prediction therefore acts as a kind of sense discriminator.\n",
    "\n",
    "Sonnet lines are taken from [Poetry DB](http://poetrydb.org)."
   ]
  },
  {
   "cell_type": "code",
   "execution_count": 1,
   "metadata": {},
   "outputs": [
    {
     "name": "stdout",
     "output_type": "stream",
     "text": [
      "Better speed can be achieved with apex installed from https://www.github.com/nvidia/apex.\n"
     ]
    }
   ],
   "source": [
    "import torch\n",
    "from pytorch_pretrained_bert import BertTokenizer, BertForNextSentencePrediction"
   ]
  },
  {
   "cell_type": "code",
   "execution_count": 2,
   "metadata": {},
   "outputs": [],
   "source": [
    "tokeniser = BertTokenizer.from_pretrained('bert-base-uncased')"
   ]
  },
  {
   "cell_type": "code",
   "execution_count": null,
   "metadata": {},
   "outputs": [],
   "source": [
    "model = BertForNextSentencePrediction.from_pretrained('bert-base-uncased')"
   ]
  },
  {
   "cell_type": "code",
   "execution_count": 10,
   "metadata": {},
   "outputs": [
    {
     "name": "stdout",
     "output_type": "stream",
     "text": [
      "From fairest creatures we desire increase,\n",
      "My verse alone had all thy gentle grace;\n",
      "So shall those blots that do with me remain,\n",
      "Who, in despite of view, is pleased to dote.\n",
      "Whilst her neglected child holds her in chase,\n",
      "Whilst I, my sovereign, watch the clock for you,\n",
      "Nay, if thou lour'st on me, do I not spend\n",
      "To weigh how once I suffer'd in your crime.\n",
      "So then I am not lame, poor, nor despis'd,\n",
      "To this composed wonder of your frame;\n",
      "At such who, not born fair, no beauty lack,\n",
      "And having thee, of all men's pride I boast:\n",
      "So thou, thyself outgoing in thy noon:\n",
      "And all they foul that thy complexion lack.\n"
     ]
    }
   ],
   "source": [
    "import urllib\n",
    "import json\n",
    "from random import *\n",
    "\n",
    "url = 'http://poetrydb.org/author,linecount/Shakespeare;14/lines'\n",
    "with urllib.request.urlopen(url) as response:\n",
    "    data = json.load(response)   \n",
    "\n",
    "    \n",
    "poem_number = randint(0, len(data)-1)\n",
    "previous_line = data[poem_number]['lines'][0]\n",
    "print(previous_line.strip())\n",
    "\n",
    "next_line_prediction = 0\n",
    "threshold = 3\n",
    "poems_picked = [poem_number]\n",
    "\n",
    "for line_number in range(1, 14):\n",
    "    next_line_prediction = 0\n",
    "    while(line_number == len(poems_picked)):\n",
    "        poem_number = randint(0, len(data)-1)\n",
    "        line_to_check = data[poem_number]['lines'][line_number]\n",
    "        \n",
    "        len_line_1 = len(tokeniser.tokenize(previous_line))\n",
    "        len_line_2 = len(tokeniser.tokenize(line_to_check))\n",
    "\n",
    "        text = previous_line + ' ' + line_to_check\n",
    "        tokenized_text = tokeniser.tokenize(text)\n",
    "\n",
    "        indexed_tokens = tokeniser.convert_tokens_to_ids(tokenized_text)\n",
    "        segments_ids = ([0] * len_line_1) + ([1] * len_line_2)\n",
    "        tokens_tensor = torch.tensor([indexed_tokens])\n",
    "        segments_tensors = torch.tensor([segments_ids])\n",
    "        \n",
    "        predictions = model(tokens_tensor, segments_tensors)\n",
    "        \n",
    "        next_line_prediction = predictions[0,0].item()\n",
    "        # No poem should be taken a line from more than once\n",
    "        if poem_number not in poems_picked and next_line_prediction > threshold:\n",
    "            poems_picked = poems_picked + [poem_number]\n",
    "\n",
    "    print(line_to_check.strip())\n",
    "    previous_line = line_to_check"
   ]
  },
  {
   "cell_type": "code",
   "execution_count": null,
   "metadata": {},
   "outputs": [],
   "source": []
  }
 ],
 "metadata": {
  "kernelspec": {
   "display_name": "Python 3",
   "language": "python",
   "name": "python3"
  },
  "language_info": {
   "codemirror_mode": {
    "name": "ipython",
    "version": 3
   },
   "file_extension": ".py",
   "mimetype": "text/x-python",
   "name": "python",
   "nbconvert_exporter": "python",
   "pygments_lexer": "ipython3",
   "version": "3.6.5"
  }
 },
 "nbformat": 4,
 "nbformat_minor": 2
}
